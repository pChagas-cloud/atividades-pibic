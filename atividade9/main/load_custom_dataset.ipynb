{
 "cells": [
  {
   "cell_type": "code",
   "execution_count": 46,
   "id": "01ddaaa4",
   "metadata": {},
   "outputs": [],
   "source": [
    "import keras.backend as K\n",
    "\n",
    "def f1_metric(y_true, y_pred):\n",
    "    true_positives = K.sum(K.round(K.clip(y_true * y_pred, 0, 1)))\n",
    "    possible_positives = K.sum(K.round(K.clip(y_true, 0, 1)))\n",
    "    predicted_positives = K.sum(K.round(K.clip(y_pred, 0, 1)))\n",
    "    precision = true_positives / (predicted_positives + K.epsilon())\n",
    "    recall = true_positives / (possible_positives + K.epsilon())\n",
    "    f1_val = 2*(precision*recall)/(precision+recall+K.epsilon())\n",
    "    return f1_val"
   ]
  },
  {
   "cell_type": "code",
   "execution_count": 2,
   "id": "945e3495",
   "metadata": {},
   "outputs": [
    {
     "name": "stderr",
     "output_type": "stream",
     "text": [
      "2022-05-31 15:52:17.114833: W tensorflow/stream_executor/platform/default/dso_loader.cc:64] Could not load dynamic library 'libcudart.so.11.0'; dlerror: libcudart.so.11.0: cannot open shared object file: No such file or directory\n",
      "2022-05-31 15:52:17.114858: I tensorflow/stream_executor/cuda/cudart_stub.cc:29] Ignore above cudart dlerror if you do not have a GPU set up on your machine.\n"
     ]
    }
   ],
   "source": [
    "import numpy as np\n",
    "import os\n",
    "import PIL\n",
    "import PIL.Image\n",
    "import tensorflow as tf\n",
    "import pathlib\n"
   ]
  },
  {
   "cell_type": "code",
   "execution_count": 4,
   "id": "d1859f6b",
   "metadata": {},
   "outputs": [
    {
     "name": "stdout",
     "output_type": "stream",
     "text": [
      "30\n"
     ]
    }
   ],
   "source": [
    "#Load images dir\n",
    "\n",
    "data_dir = pathlib.Path(\"../datasets/teste1/\")\n",
    "image_count = len(list(data_dir.glob('*/*.png')))\n",
    "print(image_count)\n",
    "A = list(data_dir.glob('A/*'))\n",
    "B = list(data_dir.glob('B/*'))"
   ]
  },
  {
   "cell_type": "code",
   "execution_count": 5,
   "id": "5d828678",
   "metadata": {},
   "outputs": [],
   "source": [
    "#Define some default variables\n",
    "\n",
    "batch_size = 10 #total of 2\n",
    "img_height = 32\n",
    "img_width = 32"
   ]
  },
  {
   "cell_type": "code",
   "execution_count": 6,
   "id": "89f1bc75",
   "metadata": {},
   "outputs": [
    {
     "name": "stdout",
     "output_type": "stream",
     "text": [
      "Found 30 files belonging to 2 classes.\n",
      "Using 20 files for training.\n"
     ]
    },
    {
     "name": "stderr",
     "output_type": "stream",
     "text": [
      "2022-05-31 15:53:58.920567: W tensorflow/stream_executor/platform/default/dso_loader.cc:64] Could not load dynamic library 'libcuda.so.1'; dlerror: libcuda.so.1: cannot open shared object file: No such file or directory\n",
      "2022-05-31 15:53:58.920601: W tensorflow/stream_executor/cuda/cuda_driver.cc:269] failed call to cuInit: UNKNOWN ERROR (303)\n",
      "2022-05-31 15:53:58.920630: I tensorflow/stream_executor/cuda/cuda_diagnostics.cc:156] kernel driver does not appear to be running on this host (arch): /proc/driver/nvidia/version does not exist\n",
      "2022-05-31 15:53:58.960475: I tensorflow/core/platform/cpu_feature_guard.cc:193] This TensorFlow binary is optimized with oneAPI Deep Neural Network Library (oneDNN) to use the following CPU instructions in performance-critical operations:  AVX2 FMA\n",
      "To enable them in other operations, rebuild TensorFlow with the appropriate compiler flags.\n"
     ]
    }
   ],
   "source": [
    "#Create training dataset\n",
    "\n",
    "train_ds = tf.keras.utils.image_dataset_from_directory(\n",
    "  data_dir,\n",
    "  validation_split=0.34,\n",
    "  subset=\"training\",\n",
    "  seed=123,\n",
    "  image_size=(img_height, img_width),\n",
    "  batch_size=batch_size)"
   ]
  },
  {
   "cell_type": "code",
   "execution_count": 7,
   "id": "2cc9c597",
   "metadata": {},
   "outputs": [
    {
     "name": "stdout",
     "output_type": "stream",
     "text": [
      "Found 30 files belonging to 2 classes.\n",
      "Using 10 files for validation.\n"
     ]
    }
   ],
   "source": [
    "#Create test dataset\n",
    "\n",
    "val_ds = tf.keras.utils.image_dataset_from_directory(\n",
    "  data_dir,\n",
    "  validation_split=0.34,\n",
    "  subset=\"validation\",\n",
    "  seed=123,\n",
    "  image_size=(img_height, img_width),\n",
    "  batch_size=batch_size)"
   ]
  },
  {
   "cell_type": "code",
   "execution_count": 13,
   "id": "6856a4ee",
   "metadata": {},
   "outputs": [],
   "source": [
    "#Define number of classes\n",
    "classes = train_ds.class_names\n",
    "lenClasses = len(classes)"
   ]
  },
  {
   "cell_type": "code",
   "execution_count": 11,
   "id": "c8f5399f",
   "metadata": {},
   "outputs": [
    {
     "data": {
      "image/png": "[encoded data removed]",
      "text/plain": [
       "<Figure size 720x720 with 9 Axes>"
      ]
     },
     "metadata": {
      "needs_background": "light"
     },
     "output_type": "display_data"
    }
   ],
   "source": [
    "#Visualize data\n",
    "\n",
    "import matplotlib.pyplot as plt\n",
    "\n",
    "plt.figure(figsize=(10, 10))\n",
    "for images, labels in train_ds.take(1):\n",
    "    for i in range(9):\n",
    "        ax = plt.subplot(3, 3, i + 1)\n",
    "        plt.imshow(images[i].numpy().astype(\"uint8\"))\n",
    "        plt.title(classes[labels[i]])\n",
    "        plt.axis(\"off\")"
   ]
  },
  {
   "cell_type": "code",
   "execution_count": 41,
   "id": "1f2245e2",
   "metadata": {},
   "outputs": [],
   "source": [
    "# There are some ways to improve the NN performance by making some changes to the dataset\n",
    "\n",
    "#Here's one of them\n",
    "AUTOTUNE = tf.data.AUTOTUNE\n",
    "\n",
    "train_ds = train_ds.cache().prefetch(buffer_size=AUTOTUNE)\n",
    "val_ds = val_ds.cache().prefetch(buffer_size=AUTOTUNE)\n"
   ]
  },
  {
   "cell_type": "code",
   "execution_count": 38,
   "id": "248786b5",
   "metadata": {},
   "outputs": [
    {
     "name": "stdout",
     "output_type": "stream",
     "text": [
      "Epoch 1/5\n",
      "2/2 [==============================] - 1s 143ms/step - loss: 0.5524 - accuracy: 0.7000 - val_loss: 0.6444 - val_accuracy: 0.7000\n",
      "Epoch 2/5\n",
      "2/2 [==============================] - 0s 38ms/step - loss: 2.7105 - accuracy: 0.6500 - val_loss: 1.1317 - val_accuracy: 0.4000\n",
      "Epoch 3/5\n",
      "2/2 [==============================] - 0s 39ms/step - loss: 0.3956 - accuracy: 0.7500 - val_loss: 1.2093 - val_accuracy: 0.4000\n",
      "Epoch 4/5\n",
      "2/2 [==============================] - 0s 41ms/step - loss: 0.0017 - accuracy: 1.0000 - val_loss: 1.0045 - val_accuracy: 0.4000\n",
      "Epoch 5/5\n",
      "2/2 [==============================] - 0s 40ms/step - loss: 0.0020 - accuracy: 1.0000 - val_loss: 0.8822 - val_accuracy: 0.4000\n",
      "1/1 [==============================] - 0s 12ms/step - loss: 0.8822 - accuracy: 0.4000\n",
      "Results with 5 training epochs:\n",
      "Accuracy: 0.4000000059604645\n"
     ]
    }
   ],
   "source": [
    "#Test on a default model\n",
    "\n",
    "#Build\n",
    "model = tf.keras.Sequential()\n",
    "\n",
    "model.add(tf.keras.layers.Rescaling(1./255))\n",
    "model.add(tf.keras.layers.Conv2D(64, (3, 3), padding='same', input_shape=(32, 32, 3), activation='relu'))\n",
    "model.add(tf.keras.layers.MaxPooling2D(pool_size=(2, 2)))\n",
    "\n",
    "model.add(tf.keras.layers.Conv2D(128, (3, 3), padding='same', input_shape=(32, 32, 3), activation='relu'))\n",
    "model.add(tf.keras.layers.MaxPooling2D(pool_size=(2, 2)))\n",
    "\n",
    "model.add(tf.keras.layers.Conv2D(256, (3, 3), padding='same', input_shape=(32, 32, 3), activation='relu'))\n",
    "model.add(tf.keras.layers.MaxPooling2D(pool_size=(2, 2)))\n",
    "\n",
    "model.add(tf.keras.layers.BatchNormalization())\n",
    "model.add(tf.keras.layers.Flatten())\n",
    "model.add(tf.keras.layers.Dropout(0.5))\n",
    "\n",
    "model.add(tf.keras.layers.Dense(1024, activation='sigmoid'))\n",
    "model.add(tf.keras.layers.Dense(lenClasses, activation='softmax'))\n",
    "\n",
    "#Compile\n",
    "model.compile(\n",
    "  optimizer='adam',\n",
    "  loss=tf.losses.SparseCategoricalCrossentropy(from_logits=True),\n",
    "  metrics=['accuracy'])\n",
    "\n",
    "#Train\n",
    "Nepochs = 5\n",
    "model.fit(\n",
    "  train_ds,\n",
    "  validation_data=val_ds,\n",
    "  epochs=Nepochs\n",
    ")\n",
    "\n",
    "#Test\n",
    "results = model.evaluate(val_ds)\n",
    "print(f\"Results with {Nepochs} training epochs:\")\n",
    "print(f\"Accuracy: {results[1]}\")"
   ]
  },
  {
   "cell_type": "code",
   "execution_count": 51,
   "id": "64e64b67",
   "metadata": {},
   "outputs": [
    {
     "name": "stdout",
     "output_type": "stream",
     "text": [
      "Epoch 1/10\n",
      "2/2 [==============================] - 0s 120ms/step - loss: 0.7220 - accuracy: 0.4500 - f1_metric: 0.0000e+00 - val_loss: 0.7264 - val_accuracy: 0.4000 - val_f1_metric: 0.0000e+00\n",
      "Epoch 2/10\n",
      "2/2 [==============================] - 0s 15ms/step - loss: 0.6556 - accuracy: 0.5500 - f1_metric: 0.0000e+00 - val_loss: 0.6956 - val_accuracy: 0.4000 - val_f1_metric: 0.0000e+00\n",
      "Epoch 3/10\n",
      "2/2 [==============================] - 0s 14ms/step - loss: 0.6178 - accuracy: 0.5500 - f1_metric: 0.0000e+00 - val_loss: 0.6630 - val_accuracy: 0.5000 - val_f1_metric: 0.0000e+00\n",
      "Epoch 4/10\n",
      "2/2 [==============================] - 0s 14ms/step - loss: 0.5851 - accuracy: 0.8500 - f1_metric: 0.0000e+00 - val_loss: 0.6293 - val_accuracy: 0.6000 - val_f1_metric: 0.0000e+00\n",
      "Epoch 5/10\n",
      "2/2 [==============================] - 0s 13ms/step - loss: 0.5497 - accuracy: 1.0000 - f1_metric: 0.0000e+00 - val_loss: 0.6007 - val_accuracy: 0.7000 - val_f1_metric: 0.0000e+00\n",
      "Epoch 6/10\n",
      "2/2 [==============================] - 0s 13ms/step - loss: 0.5086 - accuracy: 1.0000 - f1_metric: 0.0000e+00 - val_loss: 0.5699 - val_accuracy: 0.8000 - val_f1_metric: 0.0000e+00\n",
      "Epoch 7/10\n",
      "2/2 [==============================] - 0s 13ms/step - loss: 0.4623 - accuracy: 1.0000 - f1_metric: 0.0000e+00 - val_loss: 0.5331 - val_accuracy: 1.0000 - val_f1_metric: 0.0000e+00\n",
      "Epoch 8/10\n",
      "2/2 [==============================] - 0s 14ms/step - loss: 0.4108 - accuracy: 1.0000 - f1_metric: 0.3636 - val_loss: 0.4870 - val_accuracy: 1.0000 - val_f1_metric: 0.4000\n",
      "Epoch 9/10\n",
      "2/2 [==============================] - 0s 13ms/step - loss: 0.3550 - accuracy: 1.0000 - f1_metric: 0.7619 - val_loss: 0.4331 - val_accuracy: 1.0000 - val_f1_metric: 0.6667\n",
      "Epoch 10/10\n",
      "2/2 [==============================] - 0s 14ms/step - loss: 0.2963 - accuracy: 1.0000 - f1_metric: 0.8667 - val_loss: 0.3756 - val_accuracy: 1.0000 - val_f1_metric: 0.5000\n",
      "1/1 [==============================] - 0s 7ms/step - loss: 0.3756 - accuracy: 1.0000 - f1_metric: 0.5000\n",
      "Results with 10 training epochs:\n",
      "Accuracy: 1.0\n",
      "F1-score: 0.4999999403953552\n"
     ]
    }
   ],
   "source": [
    "#test with model built for this structure\n",
    "\n",
    "#Build\n",
    "\n",
    "model2 = tf.keras.Sequential([\n",
    "  tf.keras.layers.Rescaling(1./255),\n",
    "  tf.keras.layers.Conv2D(32, 3, activation='relu'),\n",
    "  tf.keras.layers.MaxPooling2D(),\n",
    "  tf.keras.layers.Conv2D(32, 3, activation='relu'),\n",
    "  tf.keras.layers.MaxPooling2D(),\n",
    "  tf.keras.layers.Conv2D(32, 3, activation='relu'),\n",
    "  tf.keras.layers.MaxPooling2D(),\n",
    "  tf.keras.layers.Flatten(),\n",
    "  tf.keras.layers.Dense(128, activation='relu'),\n",
    "  tf.keras.layers.Dense(lenClasses)\n",
    "])\n",
    "model2.compile(\n",
    "  optimizer='adam',\n",
    "  loss=tf.losses.SparseCategoricalCrossentropy(from_logits=True),\n",
    "  metrics=['accuracy', f1_metric])\n",
    "\n",
    "Nepochs = 10\n",
    "model2.fit(\n",
    "  train_ds,\n",
    "  validation_data=val_ds,\n",
    "  epochs=Nepochs\n",
    ")\n",
    "\n",
    "results = model2.evaluate(val_ds)\n",
    "print(f\"Results with {Nepochs} training epochs:\")\n",
    "print(f\"Accuracy: {results[1]}\")\n",
    "print(f\"F1-score: {results[2]}\")"
   ]
  },
  {
   "cell_type": "code",
   "execution_count": 66,
   "id": "d87ded71",
   "metadata": {},
   "outputs": [
    {
     "name": "stdout",
     "output_type": "stream",
     "text": [
      "Epoch 1/10\n",
      "2/2 [==============================] - 1s 127ms/step - loss: 4.7246 - accuracy: 0.5500 - f1_metric: 0.2857 - val_loss: 3.5093 - val_accuracy: 0.4000 - val_f1_metric: 0.5714\n",
      "Epoch 2/10\n",
      "2/2 [==============================] - 0s 13ms/step - loss: 4.6037 - accuracy: 0.5500 - f1_metric: 0.6975 - val_loss: 3.4495 - val_accuracy: 0.4000 - val_f1_metric: 0.5714\n",
      "Epoch 3/10\n",
      "2/2 [==============================] - 0s 13ms/step - loss: 4.5335 - accuracy: 0.5500 - f1_metric: 0.6975 - val_loss: 3.3816 - val_accuracy: 0.4000 - val_f1_metric: 0.8889\n",
      "Epoch 4/10\n",
      "2/2 [==============================] - 0s 13ms/step - loss: 4.5234 - accuracy: 0.5500 - f1_metric: 0.9286 - val_loss: 3.3616 - val_accuracy: 0.4000 - val_f1_metric: 1.0000\n",
      "Epoch 5/10\n",
      "2/2 [==============================] - 0s 12ms/step - loss: 4.5124 - accuracy: 0.5500 - f1_metric: 0.9286 - val_loss: 3.3500 - val_accuracy: 0.4000 - val_f1_metric: 1.0000\n",
      "Epoch 6/10\n",
      "2/2 [==============================] - 0s 12ms/step - loss: 4.4845 - accuracy: 0.5500 - f1_metric: 1.0000 - val_loss: 3.3520 - val_accuracy: 0.4000 - val_f1_metric: 0.8889\n",
      "Epoch 7/10\n",
      "2/2 [==============================] - 0s 13ms/step - loss: 4.4545 - accuracy: 0.5500 - f1_metric: 1.0000 - val_loss: 3.3612 - val_accuracy: 0.4000 - val_f1_metric: 0.5714\n",
      "Epoch 8/10\n",
      "2/2 [==============================] - 0s 12ms/step - loss: 4.4240 - accuracy: 0.5500 - f1_metric: 0.8303 - val_loss: 3.3468 - val_accuracy: 0.4000 - val_f1_metric: 0.6154\n",
      "Epoch 9/10\n",
      "2/2 [==============================] - 0s 13ms/step - loss: 4.3848 - accuracy: 0.5500 - f1_metric: 1.0000 - val_loss: 3.3038 - val_accuracy: 0.4000 - val_f1_metric: 0.8000\n",
      "Epoch 10/10\n",
      "2/2 [==============================] - 0s 13ms/step - loss: 4.3490 - accuracy: 0.5500 - f1_metric: 1.0000 - val_loss: 3.2622 - val_accuracy: 0.4000 - val_f1_metric: 1.0000\n",
      "1/1 [==============================] - 0s 7ms/step - loss: 3.2622 - accuracy: 0.4000 - f1_metric: 1.0000\n",
      "Results with 10 training epochs:\n",
      "Accuracy: 0.4000000059604645\n",
      "F1-score: 1.0\n"
     ]
    }
   ],
   "source": [
    "#Build\n",
    "\n",
    "model2 = tf.keras.Sequential([\n",
    "  tf.keras.layers.Rescaling(1./255),\n",
    "  tf.keras.layers.Conv2D(32, 3, activation='relu'),\n",
    "  tf.keras.layers.MaxPooling2D(),\n",
    "  tf.keras.layers.Conv2D(32, 3, activation='relu'),\n",
    "  tf.keras.layers.MaxPooling2D(),\n",
    "  tf.keras.layers.Conv2D(32, 3, activation='relu'),\n",
    "  tf.keras.layers.MaxPooling2D(),\n",
    "  tf.keras.layers.Flatten(),\n",
    "  tf.keras.layers.Dense(128, activation='relu'),\n",
    "  tf.keras.layers.Dense(lenClasses)\n",
    "])\n",
    "model2.compile(\n",
    "  optimizer='adam',\n",
    "  #loss=tf.losses.SparseCategoricalCrossentropy(from_logits=True),\n",
    "  loss=tf.keras.losses.BinaryCrossentropy(),\n",
    "  metrics=['accuracy', f1_metric])\n",
    "\n",
    "Nepochs = 10\n",
    "model2.fit(\n",
    "  train_ds,\n",
    "  validation_data=val_ds,\n",
    "  epochs=Nepochs\n",
    ")\n",
    "\n",
    "results = model2.evaluate(val_ds)\n",
    "print(f\"Results with {Nepochs} training epochs:\")\n",
    "print(f\"Accuracy: {results[1]}\")\n",
    "print(f\"F1-score: {results[2]}\")\n"
   ]
  },
  {
   "cell_type": "code",
   "execution_count": null,
   "id": "cc499037",
   "metadata": {},
   "outputs": [],
   "source": []
  }
 ],
 "metadata": {
  "kernelspec": {
   "display_name": "Python 3 (ipykernel)",
   "language": "python",
   "name": "python3"
  },
  "language_info": {
   "codemirror_mode": {
    "name": "ipython",
    "version": 3
   },
   "file_extension": ".py",
   "mimetype": "text/x-python",
   "name": "python",
   "nbconvert_exporter": "python",
   "pygments_lexer": "ipython3",
   "version": "3.10.4"
  }
 },
 "nbformat": 4,
 "nbformat_minor": 5
}
