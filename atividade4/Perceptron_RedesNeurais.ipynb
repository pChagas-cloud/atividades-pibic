{
  "nbformat": 4,
  "nbformat_minor": 0,
  "metadata": {
    "colab": {
      "name": "Perceptron_RedesNeurais.ipynb",
      "provenance": [],
      "collapsed_sections": []
    },
    "kernelspec": {
      "display_name": "Python 3 (ipykernel)",
      "language": "python",
      "name": "python3"
    },
    "language_info": {
      "codemirror_mode": {
        "name": "ipython",
        "version": 3
      },
      "file_extension": ".py",
      "mimetype": "text/x-python",
      "name": "python",
      "nbconvert_exporter": "python",
      "pygments_lexer": "ipython3",
      "version": "3.9.7"
    }
  },
  "cells": [
    {
      "cell_type": "code",
      "metadata": {
        "id": "a9nzYmomd6W0"
      },
      "source": [
        "from sklearn.neural_network import MLPClassifier\n",
        "from sklearn.datasets import make_classification\n",
        "from sklearn.model_selection import train_test_split\n",
        "from sklearn.datasets import load_iris\n",
        "from sklearn.metrics import classification_report, confusion_matrix\n",
        "from sklearn.linear_model import Perceptron\n",
        "from sklearn.metrics import precision_recall_fscore_support\n",
        "from sklearn.metrics import f1_score, precision_score, recall_score\n",
        "import pandas as pd\n",
        "from random import randint\n",
        "from random import randrange\n",
        "import random\n",
        "\n",
        "RANDOM_STATE_VALUE = 100\n",
        "\n",
        "iris = load_iris()\n",
        "X = iris.data\n",
        "y = iris.target\n",
        "X_train, X_test, y_train, y_test = train_test_split(X, y, stratify=y, random_state=RANDOM_STATE_VALUE)\n"
      ],
      "execution_count": null,
      "outputs": []
    },
    {
      "cell_type": "code",
      "metadata": {
        "id": "zRk_VeDIagxr"
      },
      "source": [
        "def rna1(RANDOM_STATE_VALUE):\n",
        "    random_state=RANDOM_STATE_VALUE\n",
        "    max_iter = 100\n",
        "    toleration = 0.1\n",
        "    p = Perceptron(random_state=random_state, max_iter=max_iter, tol=toleration)\n",
        "    p.fit(X_train, y_train)\n",
        "    predictions = p.predict(X_test)\n",
        "    f1 = f1_score(y_test,predictions, average='macro')\n",
        "    recall = recall_score(y_test,predictions, average='macro')\n",
        "    precision = precision_score(y_test,predictions, average='macro', zero_division=1)\n",
        "    return f1, recall, precision\n",
        "    \n",
        "def get_results_rna1():\n",
        "    results = []\n",
        "    for X in range(101): \n",
        "        appnd = [f'Seed={X}', rna1(X)]\n",
        "        results.append(appnd)\n",
        "        X = X + 1\n",
        "    return results\n",
        "\n",
        "\n",
        "results_rna1 = pd.DataFrame(data=get_results_rna1(), columns=[\"seed\", \"resultados\"])"
      ],
      "execution_count": null,
      "outputs": []
    },
    {
      "cell_type": "code",
      "metadata": {
        "id": "TUiF_ps8kfBp",
        "colab": {
          "base_uri": "https://localhost:8080/",
          "height": 424
        },
        "outputId": "6d8dd40b-fdf1-4e47-a0b3-a458ff0f6ba8"
      },
      "source": [
        "results_rna1"
      ],
      "execution_count": null,
      "outputs": [
        {
          "output_type": "execute_result",
          "data": {
            "text/html": [
              "<div>\n",
              "<style scoped>\n",
              "    .dataframe tbody tr th:only-of-type {\n",
              "        vertical-align: middle;\n",
              "    }\n",
              "\n",
              "    .dataframe tbody tr th {\n",
              "        vertical-align: top;\n",
              "    }\n",
              "\n",
              "    .dataframe thead th {\n",
              "        text-align: right;\n",
              "    }\n",
              "</style>\n",
              "<table border=\"1\" class=\"dataframe\">\n",
              "  <thead>\n",
              "    <tr style=\"text-align: right;\">\n",
              "      <th></th>\n",
              "      <th>seed</th>\n",
              "      <th>resultados</th>\n",
              "    </tr>\n",
              "  </thead>\n",
              "  <tbody>\n",
              "    <tr>\n",
              "      <th>0</th>\n",
              "      <td>Seed=0</td>\n",
              "      <td>(0.5775335775335776, 0.6666666666666666, 0.807...</td>\n",
              "    </tr>\n",
              "    <tr>\n",
              "      <th>1</th>\n",
              "      <td>Seed=1</td>\n",
              "      <td>(0.886504895700298, 0.8888888888888888, 0.9136...</td>\n",
              "    </tr>\n",
              "    <tr>\n",
              "      <th>2</th>\n",
              "      <td>Seed=2</td>\n",
              "      <td>(0.60791844476055, 0.6239316239316239, 0.70436...</td>\n",
              "    </tr>\n",
              "    <tr>\n",
              "      <th>3</th>\n",
              "      <td>Seed=3</td>\n",
              "      <td>(0.6027972027972028, 0.6944444444444443, 0.804...</td>\n",
              "    </tr>\n",
              "    <tr>\n",
              "      <th>4</th>\n",
              "      <td>Seed=4</td>\n",
              "      <td>(0.9731615673644659, 0.9722222222222222, 0.976...</td>\n",
              "    </tr>\n",
              "    <tr>\n",
              "      <th>...</th>\n",
              "      <td>...</td>\n",
              "      <td>...</td>\n",
              "    </tr>\n",
              "    <tr>\n",
              "      <th>96</th>\n",
              "      <td>Seed=96</td>\n",
              "      <td>(0.9731615673644659, 0.9722222222222222, 0.976...</td>\n",
              "    </tr>\n",
              "    <tr>\n",
              "      <th>97</th>\n",
              "      <td>Seed=97</td>\n",
              "      <td>(0.3822595704948646, 0.4615384615384615, 0.787...</td>\n",
              "    </tr>\n",
              "    <tr>\n",
              "      <th>98</th>\n",
              "      <td>Seed=98</td>\n",
              "      <td>(0.5437908496732026, 0.6666666666666666, 0.794...</td>\n",
              "    </tr>\n",
              "    <tr>\n",
              "      <th>99</th>\n",
              "      <td>Seed=99</td>\n",
              "      <td>(0.5552218885552219, 0.6666666666666666, 0.823...</td>\n",
              "    </tr>\n",
              "    <tr>\n",
              "      <th>100</th>\n",
              "      <td>Seed=100</td>\n",
              "      <td>(0.9731615673644659, 0.9722222222222222, 0.976...</td>\n",
              "    </tr>\n",
              "  </tbody>\n",
              "</table>\n",
              "<p>101 rows × 2 columns</p>\n",
              "</div>"
            ],
            "text/plain": [
              "         seed                                         resultados\n",
              "0      Seed=0  (0.5775335775335776, 0.6666666666666666, 0.807...\n",
              "1      Seed=1  (0.886504895700298, 0.8888888888888888, 0.9136...\n",
              "2      Seed=2  (0.60791844476055, 0.6239316239316239, 0.70436...\n",
              "3      Seed=3  (0.6027972027972028, 0.6944444444444443, 0.804...\n",
              "4      Seed=4  (0.9731615673644659, 0.9722222222222222, 0.976...\n",
              "..        ...                                                ...\n",
              "96    Seed=96  (0.9731615673644659, 0.9722222222222222, 0.976...\n",
              "97    Seed=97  (0.3822595704948646, 0.4615384615384615, 0.787...\n",
              "98    Seed=98  (0.5437908496732026, 0.6666666666666666, 0.794...\n",
              "99    Seed=99  (0.5552218885552219, 0.6666666666666666, 0.823...\n",
              "100  Seed=100  (0.9731615673644659, 0.9722222222222222, 0.976...\n",
              "\n",
              "[101 rows x 2 columns]"
            ]
          },
          "metadata": {},
          "execution_count": 3
        }
      ]
    },
    {
      "cell_type": "code",
      "metadata": {
        "id": "oqpq87AiZqM6"
      },
      "source": [
        "def rna2(RANDOM_STATE_VALUE, max_iter, tol, hidden, lr):\n",
        "    random_state = RANDOM_STATE_VALUE\n",
        "    max_iter = 1000  #Número máximo de interações realizadas no treinamento   // 1000\n",
        "    toleration = 0.1 #Tolerância mínima para o treinamento ser finalizado    //  0.1\n",
        "    h = 3            #Hidden layer size (3x3)                               //   3\n",
        "    function = \"logistic\" #Define a função de ativação como a função logística de sigmoid \n",
        "    alpha = 0.001         #Alpha = Learning Rate                         //      0.001\n",
        "\n",
        "    mlp = MLPClassifier(random_state=random_state, max_iter=max_iter, hidden_layer_sizes=(h, h), activation=function, alpha=alpha).fit(X_train, y_train)\n",
        "    mlp.fit(X_train, y_train)#Treina a Rede neural\n",
        "    predictions = mlp.predict(X_test) #Realiza as predições\n",
        "    f1 = f1_score(y_test,predictions, average='macro')\n",
        "    recall = recall_score(y_test,predictions, average='macro')\n",
        "    precision = precision_score(y_test,predictions, average='macro', zero_division=1)\n",
        "    rtrn = [f1, recall, precision]\n",
        "\n",
        "    return rtrn\n",
        "\n",
        "def get_random_values():\n",
        "        max_iter = random.randint(1000, 5000)\n",
        "        tol = random.uniform(0.1, 0.0001)\n",
        "        hidden = random.randint(3, 10)\n",
        "        lr = random.uniform(0.0001, 1)\n",
        "        valores = [[\"Max_iter\", max_iter], [\"tol\", tol], [\"Hidden Layers\", hidden], [\"Alpha\", lr]]\n",
        "        valores_bruto = [max_iter, tol, hidden, lr]\n",
        "        valores_total = [valores_bruto, valores]\n",
        "        return valores_total\n",
        "\n",
        "    \n",
        "\n",
        "def get_results_rna2():\n",
        "    results = []\n",
        "    valores_final = []\n",
        "    for X in range(9): \n",
        "        valores_total = get_random_values()\n",
        "        valores_bruto = valores_total[0]\n",
        "        valores_f = valores_total[1]\n",
        "        if valores_bruto in valores_final:\n",
        "            valores_bruto = get_random_values()[0]\n",
        "            valores_f = get_random_values()[1]\n",
        "        else:\n",
        "            valores_final.append(valores_f)\n",
        "            seed = X\n",
        "            max_iter = valores_bruto[0]\n",
        "            tol = valores_bruto[1]\n",
        "            hidden = valores_bruto[2]\n",
        "            alpha = valores_bruto[3]\n",
        "            rnr2 = rna2(seed, max_iter, tol, hidden, alpha)\n",
        "            list_rnr2 = [rnr2[0], rnr2[1], rnr2[2]]\n",
        "            result = [valores_f, list_rnr2]\n",
        "            results.append(result)\n",
        "            X = X + 1\n",
        "    return results"
      ],
      "execution_count": null,
      "outputs": []
    },
    {
      "cell_type": "code",
      "metadata": {
        "id": "z5R3zOJyUsM7"
      },
      "source": [
        "def rna2_c():\n",
        "    random_state = int(input(\"Seed >>>\"))\n",
        "    max_iter = int(input(\"número máximo de iterações(padrão=1000) >>>\"))  #Número máximo de interações realizadas no treinamento   // 1000\n",
        "    toleration = float(input(\"Tolerância (padrão=0.01) >>>\")) #Tolerância mínima para o treinamento ser finalizado    //  0.1\n",
        "    h = int(input(\"Tamanho das hidden layers (padrão=3) >>>\"))           #Hidden layer size (3x3)                               //   3\n",
        "    function = \"logistic\" #Define a função de ativação como a função logística de sigmoid \n",
        "    alpha = float(input(\"Alpha/learningRate (padrão=0.001) >>>\"))         #Alpha = Learning Rate                         //      0.001\n",
        "\n",
        "    mlp = MLPClassifier(random_state=random_state, max_iter=max_iter, hidden_layer_sizes=(h, h), activation=function, alpha=alpha).fit(X_train, y_train)\n",
        "    mlp.fit(X_train, y_train)#Treina a Rede neural\n",
        "    predictions = mlp.predict(X_test) #Realiza as predições\n",
        "    f1 = f1_score(y_test,predictions, average='macro')\n",
        "    recall = recall_score(y_test,predictions, average='macro')\n",
        "    precision = precision_score(y_test,predictions, average='macro', zero_division=1)\n",
        "    results_raw = f1, recall, precision\n",
        "    results = f\"F1 ={f1} - recall = {recall} - precision = {precision}\"\n",
        "    print(results)"
      ],
      "execution_count": null,
      "outputs": []
    },
    {
      "cell_type": "code",
      "metadata": {
        "id": "UrpqRw2vZ6Cv",
        "colab": {
          "base_uri": "https://localhost:8080/"
        },
        "outputId": "e73f65b2-10f8-4933-aaf3-0322639bfdcf"
      },
      "source": [
        "Y = get_results_rna2()"
      ],
      "execution_count": null,
      "outputs": [
        {
          "output_type": "stream",
          "name": "stderr",
          "text": [
            "/usr/local/lib/python3.7/dist-packages/sklearn/neural_network/_multilayer_perceptron.py:696: ConvergenceWarning: Stochastic Optimizer: Maximum iterations (1000) reached and the optimization hasn't converged yet.\n",
            "  ConvergenceWarning,\n",
            "/usr/local/lib/python3.7/dist-packages/sklearn/neural_network/_multilayer_perceptron.py:696: ConvergenceWarning: Stochastic Optimizer: Maximum iterations (1000) reached and the optimization hasn't converged yet.\n",
            "  ConvergenceWarning,\n",
            "/usr/local/lib/python3.7/dist-packages/sklearn/neural_network/_multilayer_perceptron.py:696: ConvergenceWarning: Stochastic Optimizer: Maximum iterations (1000) reached and the optimization hasn't converged yet.\n",
            "  ConvergenceWarning,\n",
            "/usr/local/lib/python3.7/dist-packages/sklearn/neural_network/_multilayer_perceptron.py:696: ConvergenceWarning: Stochastic Optimizer: Maximum iterations (1000) reached and the optimization hasn't converged yet.\n",
            "  ConvergenceWarning,\n",
            "/usr/local/lib/python3.7/dist-packages/sklearn/neural_network/_multilayer_perceptron.py:696: ConvergenceWarning: Stochastic Optimizer: Maximum iterations (1000) reached and the optimization hasn't converged yet.\n",
            "  ConvergenceWarning,\n",
            "/usr/local/lib/python3.7/dist-packages/sklearn/neural_network/_multilayer_perceptron.py:696: ConvergenceWarning: Stochastic Optimizer: Maximum iterations (1000) reached and the optimization hasn't converged yet.\n",
            "  ConvergenceWarning,\n",
            "/usr/local/lib/python3.7/dist-packages/sklearn/neural_network/_multilayer_perceptron.py:696: ConvergenceWarning: Stochastic Optimizer: Maximum iterations (1000) reached and the optimization hasn't converged yet.\n",
            "  ConvergenceWarning,\n",
            "/usr/local/lib/python3.7/dist-packages/sklearn/neural_network/_multilayer_perceptron.py:696: ConvergenceWarning: Stochastic Optimizer: Maximum iterations (1000) reached and the optimization hasn't converged yet.\n",
            "  ConvergenceWarning,\n",
            "/usr/local/lib/python3.7/dist-packages/sklearn/neural_network/_multilayer_perceptron.py:696: ConvergenceWarning: Stochastic Optimizer: Maximum iterations (1000) reached and the optimization hasn't converged yet.\n",
            "  ConvergenceWarning,\n",
            "/usr/local/lib/python3.7/dist-packages/sklearn/neural_network/_multilayer_perceptron.py:696: ConvergenceWarning: Stochastic Optimizer: Maximum iterations (1000) reached and the optimization hasn't converged yet.\n",
            "  ConvergenceWarning,\n",
            "/usr/local/lib/python3.7/dist-packages/sklearn/neural_network/_multilayer_perceptron.py:696: ConvergenceWarning: Stochastic Optimizer: Maximum iterations (1000) reached and the optimization hasn't converged yet.\n",
            "  ConvergenceWarning,\n",
            "/usr/local/lib/python3.7/dist-packages/sklearn/neural_network/_multilayer_perceptron.py:696: ConvergenceWarning: Stochastic Optimizer: Maximum iterations (1000) reached and the optimization hasn't converged yet.\n",
            "  ConvergenceWarning,\n",
            "/usr/local/lib/python3.7/dist-packages/sklearn/neural_network/_multilayer_perceptron.py:696: ConvergenceWarning: Stochastic Optimizer: Maximum iterations (1000) reached and the optimization hasn't converged yet.\n",
            "  ConvergenceWarning,\n",
            "/usr/local/lib/python3.7/dist-packages/sklearn/neural_network/_multilayer_perceptron.py:696: ConvergenceWarning: Stochastic Optimizer: Maximum iterations (1000) reached and the optimization hasn't converged yet.\n",
            "  ConvergenceWarning,\n"
          ]
        }
      ]
    },
    {
      "cell_type": "code",
      "metadata": {
        "colab": {
          "base_uri": "https://localhost:8080/"
        },
        "id": "S--eBQChubeI",
        "outputId": "17ba06bc-7300-4b9f-811d-bf74a3d90e1e"
      },
      "source": [
        "y = pd.DataFrame(data=Y)[1].max()\n",
        "for i in range(5):\n",
        "    x = pd.DataFrame(data=Y)[1][i]\n",
        "    if x == y:\n",
        "        print(i)"
      ],
      "execution_count": null,
      "outputs": [
        {
          "output_type": "stream",
          "name": "stdout",
          "text": [
            "4\n"
          ]
        }
      ]
    },
    {
      "cell_type": "code",
      "metadata": {
        "colab": {
          "base_uri": "https://localhost:8080/"
        },
        "id": "KRIOOZx-ubeK",
        "outputId": "6fc5f583-a751-4bd5-898e-086b7068fa29"
      },
      "source": [
        "x = pd.DataFrame(data=Y)[0][4]\n",
        "x"
      ],
      "execution_count": null,
      "outputs": [
        {
          "output_type": "execute_result",
          "data": {
            "text/plain": [
              "[['Max_iter', 3922],\n",
              " ['tol', 0.011988282643224352],\n",
              " ['Hidden Layers', 6],\n",
              " ['Alpha', 0.7499094303621187]]"
            ]
          },
          "metadata": {},
          "execution_count": 13
        }
      ]
    },
    {
      "cell_type": "code",
      "metadata": {
        "colab": {
          "base_uri": "https://localhost:8080/"
        },
        "id": "a1kqHXFDubeL",
        "outputId": "c64e2352-3574-4c20-9091-7adbec4935d4"
      },
      "source": [
        "rna2_c()"
      ],
      "execution_count": null,
      "outputs": [
        {
          "output_type": "stream",
          "name": "stdout",
          "text": [
            "Seed >>>19\n",
            "número máximo de iterações(padrão=1000) >>>3363\n",
            "Tolerância (padrão=0.01) >>>0.01\n",
            "Tamanho das hidden layers (padrão=3) >>>7\n",
            "Alpha/learningRate (padrão=0.001) >>>0.03\n",
            "F1 =1.0 - recall = 1.0 - precision = 1.0\n"
          ]
        }
      ]
    },
    {
      "cell_type": "code",
      "metadata": {
        "colab": {
          "base_uri": "https://localhost:8080/"
        },
        "id": "4FXrbsTJubeM",
        "outputId": "b6da3773-bc5d-4d1d-b693-74cf1c5d78c9"
      },
      "source": [
        "#seed = 19\n",
        "#max_iter = 3363\n",
        "#tol = 0.01\n",
        "# h = 7\n",
        "# lr = 0.03\n",
        "melhor_resultado = rna2(19, 3363, 0.01, 7, 0.03)\n",
        "melhor_resultado"
      ],
      "execution_count": null,
      "outputs": [
        {
          "output_type": "stream",
          "name": "stderr",
          "text": [
            "/usr/local/lib/python3.7/dist-packages/sklearn/neural_network/_multilayer_perceptron.py:696: ConvergenceWarning: Stochastic Optimizer: Maximum iterations (1000) reached and the optimization hasn't converged yet.\n",
            "  ConvergenceWarning,\n",
            "/usr/local/lib/python3.7/dist-packages/sklearn/neural_network/_multilayer_perceptron.py:696: ConvergenceWarning: Stochastic Optimizer: Maximum iterations (1000) reached and the optimization hasn't converged yet.\n",
            "  ConvergenceWarning,\n"
          ]
        },
        {
          "output_type": "execute_result",
          "data": {
            "text/plain": [
              "[0.9731615673644659, 0.9722222222222222, 0.9761904761904763]"
            ]
          },
          "metadata": {},
          "execution_count": 19
        }
      ]
    },
    {
      "cell_type": "code",
      "metadata": {
        "id": "4ZlH_P5aubeN",
        "outputId": "f1950eb3-574e-410c-cac7-19bde81f63ba"
      },
      "source": [
        "rna2_c()"
      ],
      "execution_count": null,
      "outputs": [
        {
          "name": "stdout",
          "output_type": "stream",
          "text": [
            "Seed >>>19\n",
            "número máximo de iterações(padrão=1000) >>>3363\n",
            "Tolerância (padrão=0.01) >>>0.01\n",
            "Tamanho das hidden layers (padrão=3) >>>7\n",
            "Alpha/learningRate (padrão=0.001) >>>0.03\n",
            "F1 =1.0 - recall = 1.0 - precision = 1.0\n"
          ]
        }
      ]
    },
    {
      "cell_type": "code",
      "metadata": {
        "id": "tenUCy9OubeP"
      },
      "source": [
        "def rna2_final(random_state, max_iter, toleration, h, alpha):\n",
        "    function = \"logistic\"\n",
        "    mlp = MLPClassifier(random_state=random_state, max_iter=max_iter, hidden_layer_sizes=(h, h), activation=function, alpha=alpha).fit(X_train, y_train)\n",
        "    mlp.fit(X_train, y_train)#Treina a Rede neural\n",
        "    predictions = mlp.predict(X_test) #Realiza as predições\n",
        "    f1 = f1_score(y_test,predictions, average='macro')\n",
        "    recall = recall_score(y_test,predictions, average='macro')\n",
        "    precision = precision_score(y_test,predictions, average='macro', zero_division=1)\n",
        "    results_raw = f1, recall, precision\n",
        "    results = f\"F1 ={f1} - recall = {recall} - precision = {precision}\"\n",
        "    print(results)"
      ],
      "execution_count": null,
      "outputs": []
    },
    {
      "cell_type": "code",
      "metadata": {
        "id": "CBeB2LnQubeQ",
        "outputId": "416b5acd-e81b-41f7-dafa-2f6280ca7e5d"
      },
      "source": [
        "valores1 = [19, 3363, 0.01, 5, 0.03]\n",
        "rna2_final(19, 3363, 0.01, 5, 0.03)\n",
        "\n",
        "results_rna2 = pd.DataFrame(data=)"
      ],
      "execution_count": null,
      "outputs": [
        {
          "name": "stdout",
          "output_type": "stream",
          "text": [
            "F1 =1.0 - recall = 1.0 - precision = 1.0\n"
          ]
        }
      ]
    },
    {
      "cell_type": "code",
      "metadata": {
        "id": "CYZbwlxRubeR"
      },
      "source": [
        "results_rna1.to_excel(r'rna1_testes.xlsx')\n",
        "results_rna2.to_excel(r'rna2_testes.xlsx')"
      ],
      "execution_count": null,
      "outputs": []
    }
  ]
}