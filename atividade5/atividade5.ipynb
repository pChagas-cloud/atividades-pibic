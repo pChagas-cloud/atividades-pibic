{
  "cells": [
    {
      "cell_type": "code",
      "execution_count": null,
      "id": "2c97af39",
      "metadata": {
        "id": "2c97af39"
      },
      "outputs": [],
      "source": [
        "from sklearn.neural_network import MLPClassifier\n",
        "from sklearn.datasets import make_classification\n",
        "from sklearn.model_selection import train_test_split\n",
        "from sklearn.datasets import load_iris\n",
        "from sklearn.metrics import classification_report, confusion_matrix\n",
        "from sklearn.linear_model import Perceptron\n",
        "from sklearn.metrics import precision_recall_fscore_support\n",
        "from sklearn.metrics import f1_score, precision_score, recall_score, accuracy_score\n",
        "import pandas as pd\n",
        "from random import randint\n",
        "from random import randrange\n",
        "import random\n",
        "import matplotlib\n",
        "import seaborn\n",
        "import numpy as np\n",
        "\n",
        "RANDOM_STATE_VALUE = 100\n",
        "\n",
        "iris = load_iris()\n",
        "X = iris.data\n",
        "y = iris.target\n",
        "X_train, X_test, y_train, y_test = train_test_split(X, y, stratify=y, random_state=RANDOM_STATE_VALUE)\n"
      ]
    },
    {
      "cell_type": "code",
      "execution_count": null,
      "id": "0202cd54",
      "metadata": {
        "id": "0202cd54"
      },
      "outputs": [],
      "source": [
        "def rna2_final(function, max_iter, toleration, h, alpha):\n",
        "    results_all = []\n",
        "    for SEED in range(31):\n",
        "        mlp = MLPClassifier(random_state=SEED, max_iter=max_iter, hidden_layer_sizes=(h, h), activation=function, alpha=alpha).fit(X_train, y_train)\n",
        "        mlp.fit(X_train, y_train)#Treina a Rede neural\n",
        "        predictions = mlp.predict(X_test) #Realiza as predições\n",
        "        f1 = f1_score(y_test,predictions, average='macro')\n",
        "        recall = recall_score(y_test,predictions, average='macro')\n",
        "        precision = precision_score(y_test,predictions, average='macro', zero_division=1)\n",
        "        accuracy = accuracy_score(y_test, predictions)\n",
        "        results_raw = [f1, recall, precision, accuracy]\n",
        "        results = f\"F1 ={f1} - recall = {recall} - precision = {precision} - accurancy = {accuracy}\"\n",
        "        results_all.append(results_raw)\n",
        "    return results_all\n",
        "\n",
        "def get_dataframe(results):\n",
        "    data = results\n",
        "    _index = []\n",
        "    colunas = ['F1','recall','Precisão','Acurácia']\n",
        "    for i in range(len(data)):\n",
        "        _index.append(f'seed = {i}')\n",
        "    dataframe = pd.DataFrame(data=data, index=_index, columns = colunas)\n",
        "    return dataframe\n",
        "\n",
        "def get_measures(dataframe):\n",
        "    medias = []\n",
        "    desvio_padrao = []\n",
        "    for i in range(len(dataframe)):\n",
        "        dp = dataframe.iloc[i].std()\n",
        "        desvio_padrao.append(dp)\n",
        "        \n",
        "    for i in range(len(dataframe)):\n",
        "        dp = dataframe.iloc[i].mean()\n",
        "        medias.append(dp)\n",
        "    return [medias, desvio_padrao]\n",
        "\n",
        "def set_measures(measures, dataframe):\n",
        "    dataframe.insert(4, 'DP', measures[1])\n",
        "    dataframe.insert(5, 'Média', measures[0])\n",
        "    \n",
        "def get_all(function, max_iter, toleration, h, alpha):\n",
        "    data = rna2_final(function, max_iter, toleration, h, alpha)\n",
        "    dataframe = get_dataframe(data)\n",
        "    measures = get_measures(dataframe)\n",
        "    set_measures(measures, dataframe)\n",
        "    return dataframe\n",
        "    "
      ]
    },
    {
      "cell_type": "code",
      "execution_count": null,
      "id": "f85db94c",
      "metadata": {
        "id": "f85db94c"
      },
      "outputs": [],
      "source": [
        "dados_dataframe = np.array([\"logistic\", 5000, 0.0000001, 6, 0.0001])\n",
        "dataframe = get_all(\"logistic\", 5000, 0.0000001, 6, 0.0001)\n",
        "index_dataframe_df = ['função','max_iter','toleration','hidden_layers','learning_rate']\n",
        "dataframe_dos_dados_do_dataframe = pd.DataFrame(data=dados_dataframe, index=index_dataframe_df)\n",
        "\n",
        "dataframe.to_excel(r'dataframe8.xlsx', index = True)\n",
        "dataframe_dos_dados_do_dataframe.to_excel(r'dados_dataframe8.xlsx', index = True)"
      ]
    },
    {
      "cell_type": "code",
      "execution_count": null,
      "id": "09a2f8d2",
      "metadata": {
        "id": "09a2f8d2"
      },
      "outputs": [],
      "source": [
        "#dataframe 1->2 alterei o learning rate de maneira brusca, mantendo todos os outros valores iguais\n",
        "#dataframe 3->4 alterei a função, de lógica para linear, mantendo todos os outros parâmetros\n",
        "#dataframe 5->6 alterei o número de neurônios na camada escondida\n",
        "#dataframe 7->8 alterei bruscamente o valor da tolerância, mantendo todos os outros valores iguais"
      ]
    },
    {
      "cell_type": "code",
      "execution_count": null,
      "id": "4b6929ca",
      "metadata": {
        "id": "4b6929ca"
      },
      "outputs": [],
      "source": [
        ""
      ]
    }
  ],
  "metadata": {
    "kernelspec": {
      "display_name": "Python 3 (ipykernel)",
      "language": "python",
      "name": "python3"
    },
    "language_info": {
      "codemirror_mode": {
        "name": "ipython",
        "version": 3
      },
      "file_extension": ".py",
      "mimetype": "text/x-python",
      "name": "python",
      "nbconvert_exporter": "python",
      "pygments_lexer": "ipython3",
      "version": "3.10.0"
    },
    "colab": {
      "name": "atividade5.ipynb",
      "provenance": []
    }
  },
  "nbformat": 4,
  "nbformat_minor": 5
}